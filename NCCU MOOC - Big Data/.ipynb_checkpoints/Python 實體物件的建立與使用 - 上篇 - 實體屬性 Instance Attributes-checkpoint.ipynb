{
 "cells": [
  {
   "cell_type": "markdown",
   "metadata": {},
   "source": [
    "## 建立實體"
   ]
  },
  {
   "cell_type": "code",
   "execution_count": null,
   "metadata": {},
   "outputs": [],
   "source": [
    "基本語法：\n",
    "class 類別名稱:\n",
    "    # 定義初始化函式\n",
    "    def __init__(self):\n",
    "        透過操作 self 來定義實體屬性\n",
    "# 建立實體物件，放入變數 obj 中\n",
    "obj=類別名稱() # 呼叫初始化函式"
   ]
  },
  {
   "cell_type": "markdown",
   "metadata": {},
   "source": [
    "## 使用實體\n",
    "基本語法：實體物件.實體屬性名稱"
   ]
  },
  {
   "cell_type": "code",
   "execution_count": 1,
   "metadata": {},
   "outputs": [],
   "source": [
    "# 建立實體物件\n",
    "class Point:\n",
    "    def __init__(self):\n",
    "        self.x=3   # 此實體物件包函 x 和 y 兩個實體屬性\n",
    "        self.y=4\n",
    "p=Point()"
   ]
  },
  {
   "cell_type": "code",
   "execution_count": 5,
   "metadata": {},
   "outputs": [
    {
     "name": "stdout",
     "output_type": "stream",
     "text": [
      "6\n"
     ]
    }
   ],
   "source": [
    "# 建立實體物件\n",
    "class Point:\n",
    "    def __init__(self, x, y):\n",
    "        self.x=x   # 建立時，可直接傳入參數資料\n",
    "        self.y=y\n",
    "p=Point(1, 5)\n",
    "\n",
    "# 使用實體\n",
    "print(p.x+p.y)"
   ]
  },
  {
   "cell_type": "code",
   "execution_count": null,
   "metadata": {},
   "outputs": [],
   "source": []
  },
  {
   "cell_type": "code",
   "execution_count": null,
   "metadata": {},
   "outputs": [],
   "source": []
  },
  {
   "cell_type": "code",
   "execution_count": null,
   "metadata": {},
   "outputs": [],
   "source": []
  },
  {
   "cell_type": "code",
   "execution_count": null,
   "metadata": {},
   "outputs": [],
   "source": []
  }
 ],
 "metadata": {
  "kernelspec": {
   "display_name": "Python 3",
   "language": "python",
   "name": "python3"
  },
  "language_info": {
   "codemirror_mode": {
    "name": "ipython",
    "version": 3
   },
   "file_extension": ".py",
   "mimetype": "text/x-python",
   "name": "python",
   "nbconvert_exporter": "python",
   "pygments_lexer": "ipython3",
   "version": "3.7.4"
  }
 },
 "nbformat": 4,
 "nbformat_minor": 2
}
